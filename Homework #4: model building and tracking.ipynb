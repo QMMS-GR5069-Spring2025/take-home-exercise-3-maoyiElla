{
 "cells": [
  {
   "cell_type": "code",
   "execution_count": 0,
   "metadata": {
    "application/vnd.databricks.v1+cell": {
     "cellMetadata": {
      "byteLimit": 2048000,
      "rowLimit": 10000
     },
     "inputWidgets": {},
     "nuid": "63ac777b-e860-41a2-87f7-1c14f77960ad",
     "showTitle": false,
     "tableResultSettingsMap": {},
     "title": ""
    }
   },
   "outputs": [],
   "source": [
    "# Install MLflow (only needed if restarting the kernel or running for the first time)\n",
    "%pip install mlflow==1.14.0\n",
    "import mlflow\n",
    "import boto3\n",
    "import pandas as pd"
   ]
  },
  {
   "cell_type": "code",
   "execution_count": 0,
   "metadata": {
    "application/vnd.databricks.v1+cell": {
     "cellMetadata": {
      "byteLimit": 2048000,
      "rowLimit": 10000
     },
     "inputWidgets": {},
     "nuid": "7c2d408c-4b48-4d09-a238-4ec1031edba3",
     "showTitle": false,
     "tableResultSettingsMap": {},
     "title": ""
    }
   },
   "outputs": [],
   "source": [
    "# Set up S3 client and bucket\n",
    "s3 = boto3.client('s3')\n",
    "bucket = \"columbia-gr5069-main\"\n",
    "\n",
    "# List of files you want to load from the bucket\n",
    "keys = {\n",
    "    \"drivers\": \"raw/drivers.csv\",\n",
    "    \"races\": \"raw/races.csv\",\n",
    "    \"results\": \"raw/results.csv\",\n",
    "    \"constructors\": \"raw/constructors.csv\",\n",
    "}\n",
    "\n",
    "# Dictionary to store the loaded DataFrames\n",
    "dataframes = {}\n",
    "\n",
    "# Loop through and load each CSV into a DataFrame\n",
    "for name, key in keys.items():\n",
    "    obj = s3.get_object(Bucket=bucket, Key=key)\n",
    "    df = pd.read_csv(obj['Body'])\n",
    "    dataframes[name] = df\n",
    "    print(f\"Loaded {name} ({df.shape[0]} rows, {df.shape[1]} columns)\")\n",
    "\n",
    "# Example usage:\n",
    "drivers_df = dataframes['drivers']\n",
    "races_df = dataframes['races']\n",
    "results_df = dataframes['results']\n",
    "constructors_df = dataframes['constructors']\n",
    "\n",
    "# Preview a DataFrame\n",
    "display(drivers_df)\n",
    "display(races_df)\n",
    "display(results_df)\n",
    "display(constructors_df)"
   ]
  },
  {
   "cell_type": "code",
   "execution_count": 0,
   "metadata": {
    "application/vnd.databricks.v1+cell": {
     "cellMetadata": {
      "byteLimit": 2048000,
      "rowLimit": 10000
     },
     "inputWidgets": {},
     "nuid": "80526c99-59bb-4321-b8bb-bda5abaa0f82",
     "showTitle": false,
     "tableResultSettingsMap": {},
     "title": ""
    }
   },
   "outputs": [],
   "source": [
    "# merge four dataframes into one\n",
    "merged_df = pd.merge(results_df, races_df, on='raceId', how='left', suffixes=('', '_race'))\n",
    "merged_df = pd.merge(merged_df, drivers_df, on='driverId', how='left', suffixes=('', '_driver'))\n",
    "merged_df = pd.merge(merged_df, constructors_df, on='constructorId', how='left', suffixes=('', '_constructor'))\n",
    "merged_df['top_10'] = merged_df['positionOrder'] <= 10\n",
    "merged_df = merged_df[merged_df['positionOrder'].notnull()]\n",
    "merged_df.head()"
   ]
  },
  {
   "cell_type": "code",
   "execution_count": 0,
   "metadata": {
    "application/vnd.databricks.v1+cell": {
     "cellMetadata": {
      "byteLimit": 2048000,
      "rowLimit": 10000
     },
     "inputWidgets": {},
     "nuid": "985d6a7b-cf2d-4396-bed5-63c8717f15c9",
     "showTitle": false,
     "tableResultSettingsMap": {},
     "title": ""
    }
   },
   "outputs": [],
   "source": [
    "merged_df['dob'] = pd.to_datetime(merged_df['dob'], errors='coerce')\n",
    "merged_df['date'] = pd.to_datetime(merged_df['date'], errors='coerce')\n",
    "\n",
    "# Calculate driver age at time of race\n",
    "merged_df['driver_age'] = (merged_df['date'] - merged_df['dob']).dt.days // 365\n",
    "\n",
    "# Select modeling features\n",
    "features = [\n",
    "    'grid',\n",
    "    'constructorRef',\n",
    "    'nationality',\n",
    "    'driver_age',\n",
    "    'year',\n",
    "    'round'\n",
    "]\n",
    "\n",
    "# Drop rows with missing values in selected features\n",
    "model_df = merged_df[features + ['top_10']].dropna()"
   ]
  },
  {
   "cell_type": "code",
   "execution_count": 0,
   "metadata": {
    "application/vnd.databricks.v1+cell": {
     "cellMetadata": {
      "byteLimit": 2048000,
      "rowLimit": 10000
     },
     "inputWidgets": {},
     "nuid": "5df350cb-51d3-4a46-a418-0cb88aae2056",
     "showTitle": false,
     "tableResultSettingsMap": {},
     "title": ""
    }
   },
   "outputs": [],
   "source": [
    "from sklearn.preprocessing import OneHotEncoder\n",
    "\n",
    "# One-hot encode categorical features\n",
    "categorical = ['constructorRef', 'nationality']\n",
    "model_df = pd.get_dummies(model_df, columns=categorical, drop_first=True)\n",
    "model_df.head()"
   ]
  },
  {
   "cell_type": "code",
   "execution_count": 0,
   "metadata": {
    "application/vnd.databricks.v1+cell": {
     "cellMetadata": {
      "byteLimit": 2048000,
      "rowLimit": 10000
     },
     "inputWidgets": {},
     "nuid": "26fea8e5-48c7-4f4b-92c8-3f35179f0b03",
     "showTitle": false,
     "tableResultSettingsMap": {},
     "title": ""
    }
   },
   "outputs": [],
   "source": [
    "from sklearn.tree import DecisionTreeClassifier\n",
    "from sklearn.metrics import classification_report, accuracy_score, f1_score\n",
    "from sklearn.model_selection import train_test_split\n",
    "\n",
    "X = model_df.drop('top_10', axis=1)\n",
    "y = model_df['top_10']\n",
    "\n",
    "X_train, X_test, y_train, y_test = train_test_split(X, y, test_size=0.2, random_state=42)\n",
    "\n",
    "# Define tunable hyperparameters\n",
    "params = {\n",
    "    'max_depth': 5,\n",
    "    'min_samples_split': 10,\n",
    "    'min_samples_leaf': 5,\n",
    "    'criterion': 'gini'  # or 'entropy'\n",
    "}\n",
    "\n",
    "clf = DecisionTreeClassifier(**params, random_state=42)\n",
    "clf.fit(X_train, y_train)\n",
    "y_pred = clf.predict(X_test)\n",
    "\n",
    "print(\"Accuracy:\", accuracy_score(y_test, y_pred))\n",
    "print(\"F1 Score:\", f1_score(y_test, y_pred))\n",
    "print(classification_report(y_test, y_pred))"
   ]
  },
  {
   "cell_type": "code",
   "execution_count": 0,
   "metadata": {
    "application/vnd.databricks.v1+cell": {
     "cellMetadata": {},
     "inputWidgets": {},
     "nuid": "d9f49bd5-1d5e-49ee-aa66-8a947c61700b",
     "showTitle": false,
     "tableResultSettingsMap": {},
     "title": ""
    }
   },
   "outputs": [],
   "source": [
    "\n",
    "\n"
   ]
  }
 ],
 "metadata": {
  "application/vnd.databricks.v1+notebook": {
   "computePreferences": null,
   "dashboards": [],
   "environmentMetadata": {
    "base_environment": "",
    "environment_version": "2"
   },
   "inputWidgetPreferences": null,
   "language": "python",
   "notebookMetadata": {
    "pythonIndentUnit": 4
   },
   "notebookName": "Homework #4: model building and tracking",
   "widgets": {}
  },
  "language_info": {
   "name": "python"
  }
 },
 "nbformat": 4,
 "nbformat_minor": 0
}
