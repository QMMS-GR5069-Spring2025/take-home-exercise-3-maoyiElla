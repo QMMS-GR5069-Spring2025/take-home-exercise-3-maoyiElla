{
 "cells": [
  {
   "cell_type": "code",
   "execution_count": 0,
   "metadata": {
    "application/vnd.databricks.v1+cell": {
     "cellMetadata": {
      "byteLimit": 2048000,
      "rowLimit": 10000
     },
     "inputWidgets": {},
     "nuid": "63ac777b-e860-41a2-87f7-1c14f77960ad",
     "showTitle": false,
     "tableResultSettingsMap": {},
     "title": ""
    }
   },
   "outputs": [],
   "source": [
    "%python\n",
    "%pip install mlflow==1.14.0\n",
    "import boto3\n",
    "import pandas as pd"
   ]
  },
  {
   "cell_type": "code",
   "execution_count": 0,
   "metadata": {
    "application/vnd.databricks.v1+cell": {
     "cellMetadata": {
      "byteLimit": 2048000,
      "rowLimit": 10000
     },
     "inputWidgets": {},
     "nuid": "7c2d408c-4b48-4d09-a238-4ec1031edba3",
     "showTitle": false,
     "tableResultSettingsMap": {},
     "title": ""
    }
   },
   "outputs": [],
   "source": [
    "# Set up S3 client and bucket\n",
    "s3 = boto3.client('s3')\n",
    "bucket = \"columbia-gr5069-main\"\n",
    "\n",
    "# List of files you want to load from the bucket\n",
    "keys = {\n",
    "    \"drivers\": \"raw/drivers.csv\",\n",
    "    \"races\": \"raw/races.csv\",\n",
    "    \"results\": \"raw/results.csv\",\n",
    "    \"constructors\": \"raw/constructors.csv\",\n",
    "}\n",
    "\n",
    "# Dictionary to store the loaded DataFrames\n",
    "dataframes = {}\n",
    "\n",
    "# Loop through and load each CSV into a DataFrame\n",
    "for name, key in keys.items():\n",
    "    obj = s3.get_object(Bucket=bucket, Key=key)\n",
    "    df = pd.read_csv(obj['Body'])\n",
    "    dataframes[name] = df\n",
    "    print(f\"Loaded {name} ({df.shape[0]} rows, {df.shape[1]} columns)\")\n",
    "\n",
    "# Example usage:\n",
    "drivers_df = dataframes['drivers']\n",
    "races_df = dataframes['races']\n",
    "results_df = dataframes['results']\n",
    "constructors_df = dataframes['constructors']\n",
    "\n",
    "# Preview a DataFrame\n",
    "display(drivers_df)\n",
    "display(races_df)\n",
    "display(results_df)\n",
    "display(constructors_df)"
   ]
  },
  {
   "cell_type": "code",
   "execution_count": 0,
   "metadata": {
    "application/vnd.databricks.v1+cell": {
     "cellMetadata": {},
     "inputWidgets": {},
     "nuid": "80526c99-59bb-4321-b8bb-bda5abaa0f82",
     "showTitle": false,
     "tableResultSettingsMap": {},
     "title": ""
    }
   },
   "outputs": [],
   "source": []
  }
 ],
 "metadata": {
  "application/vnd.databricks.v1+notebook": {
   "computePreferences": null,
   "dashboards": [],
   "environmentMetadata": {
    "base_environment": "",
    "environment_version": "2"
   },
   "inputWidgetPreferences": null,
   "language": "python",
   "notebookMetadata": {
    "pythonIndentUnit": 4
   },
   "notebookName": "Homework #4: model building and tracking",
   "widgets": {}
  },
  "language_info": {
   "name": "python"
  }
 },
 "nbformat": 4,
 "nbformat_minor": 0
}
